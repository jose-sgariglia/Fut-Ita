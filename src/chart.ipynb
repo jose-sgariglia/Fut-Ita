{
 "cells": [
  {
   "cell_type": "code",
   "execution_count": 1,
   "metadata": {},
   "outputs": [
    {
     "ename": "NameError",
     "evalue": "name 'DIR_CLEANED_DATA' is not defined",
     "output_type": "error",
     "traceback": [
      "\u001b[0;31m---------------------------------------------------------------------------\u001b[0m",
      "\u001b[0;31mNameError\u001b[0m                                 Traceback (most recent call last)",
      "Cell \u001b[0;32mIn[1], line 27\u001b[0m\n\u001b[1;32m     12\u001b[0m age_columns \u001b[38;5;241m=\u001b[39m {\n\u001b[1;32m     13\u001b[0m     \u001b[38;5;124m'\u001b[39m\u001b[38;5;124mAge_0_9\u001b[39m\u001b[38;5;124m'\u001b[39m: \u001b[38;5;124m\"\u001b[39m\u001b[38;5;124mFascia 0-9 anni\u001b[39m\u001b[38;5;124m\"\u001b[39m, \n\u001b[1;32m     14\u001b[0m     \u001b[38;5;124m'\u001b[39m\u001b[38;5;124mAge_9_19\u001b[39m\u001b[38;5;124m'\u001b[39m: \u001b[38;5;124m\"\u001b[39m\u001b[38;5;124mFascia 9-19 anni\u001b[39m\u001b[38;5;124m\"\u001b[39m, \n\u001b[0;32m   (...)\u001b[0m\n\u001b[1;32m     23\u001b[0m     \u001b[38;5;124m'\u001b[39m\u001b[38;5;124mAge_99_109\u001b[39m\u001b[38;5;124m'\u001b[39m: \u001b[38;5;124m\"\u001b[39m\u001b[38;5;124mFascia 99+ anni\u001b[39m\u001b[38;5;124m\"\u001b[39m\n\u001b[1;32m     24\u001b[0m }\n\u001b[1;32m     26\u001b[0m \u001b[38;5;66;03m# Dati utili per creare i grafici\u001b[39;00m\n\u001b[0;32m---> 27\u001b[0m file_path \u001b[38;5;241m=\u001b[39m \u001b[43mDIR_CLEANED_DATA\u001b[49m \u001b[38;5;241m+\u001b[39m \u001b[38;5;124m'\u001b[39m\u001b[38;5;124mdataset_ITA.parquet\u001b[39m\u001b[38;5;124m'\u001b[39m\n\u001b[1;32m     28\u001b[0m data \u001b[38;5;241m=\u001b[39m pd\u001b[38;5;241m.\u001b[39mread_parquet(file_path)\n",
      "\u001b[0;31mNameError\u001b[0m: name 'DIR_CLEANED_DATA' is not defined"
     ]
    }
   ],
   "source": [
    "# Importazione e dati vari\n",
    "import pandas as pd\n",
    "import numpy as np\n",
    "import matplotlib.pyplot as plt\n",
    "from utils.constant import *\n",
    "from time import time\n",
    "from tqdm import tqdm\n",
    "import os\n",
    "\n",
    "\n",
    "# Definire le fasce d'età\n",
    "age_columns = {\n",
    "    'Age_0_9': \"Fascia 0-9 anni\", \n",
    "    'Age_9_19': \"Fascia 9-19 anni\", \n",
    "    'Age_19_29': \"Fascia 19-29 anni\", \n",
    "    'Age_29_39': \"Fascia 29-39 anni\", \n",
    "    'Age_39_49': \"Fascia 39-49 anni\",\n",
    "    'Age_49_59': \"Fascia 49-59 anni\", \n",
    "    'Age_59_69': \"Fascia 59-69 anni\", \n",
    "    'Age_69_79': \"Fascia 69-79 anni\", \n",
    "    'Age_79_89': \"Fascia 79-89 anni\", \n",
    "    'Age_89_99': \"Fascia 89-99 anni\", \n",
    "    'Age_99_109': \"Fascia 99+ anni\"\n",
    "}\n",
    "\n",
    "# Dati utili per creare i grafici\n",
    "file_path = DIR_CLEANED_DATA + 'dataset_ITA.parquet'\n",
    "data = pd.read_parquet(file_path)"
   ]
  },
  {
   "cell_type": "markdown",
   "metadata": {},
   "source": [
    "### Creazione Istogrammi per fascie di età divisi tra maschi e femmine in ogni anno\n",
    "Tutti i dati sono salvati in `charts/bar/population_hist_<numero>`"
   ]
  },
  {
   "cell_type": "code",
   "execution_count": 2,
   "metadata": {},
   "outputs": [
    {
     "name": "stdout",
     "output_type": "stream",
     "text": [
      "Starting create charts...\n"
     ]
    },
    {
     "name": "stderr",
     "output_type": "stream",
     "text": [
      "100%|██████████| 72/72 [00:11<00:00,  6.48it/s]"
     ]
    },
    {
     "name": "stdout",
     "output_type": "stream",
     "text": [
      "Done!\n"
     ]
    },
    {
     "name": "stderr",
     "output_type": "stream",
     "text": [
      "\n"
     ]
    }
   ],
   "source": [
    "def plot_population_by_age_and_sex(data, year_to_analyze, territory_to_analyze, output_dir):\n",
    "    data_filtered = data[(data['Year'] == year_to_analyze) & (data['Territory'] == territory_to_analyze)]\n",
    "    code_territory = ITALIAN_REGION_CODE[territory_to_analyze]\n",
    "\n",
    "    male_data, female_data = (data_filtered[data_filtered['Sex'] == i] for i in [1, 2])\n",
    "\n",
    "    age_keys = list(age_columns.keys())\n",
    "    if not all(key in data_filtered.columns for key in age_keys):\n",
    "        raise ValueError(\"Le colonne delle fasce di età non sono presenti nel dataframe.\")\n",
    "\n",
    "    male_population = male_data[age_keys].sum().values\n",
    "    female_population = female_data[age_keys].sum().values\n",
    "\n",
    "    plt.figure(figsize=(10, 8))\n",
    "    bar_width = 0.4\n",
    "    indices = np.arange(len(age_columns))\n",
    "\n",
    "    plt.barh(indices - bar_width/2, male_population, bar_width, color='blue', label='Maschi')\n",
    "    plt.barh(indices + bar_width/2, female_population, bar_width, color='violet', label='Femmine')\n",
    "\n",
    "    plt.yticks(indices, age_columns.values())\n",
    "    plt.xlabel('Popolazione')\n",
    "    plt.ylabel('Fascia di Età')\n",
    "    plt.title(f'Popolazione per Fascia di Età e Sesso in {territory_to_analyze} nel {year_to_analyze}')\n",
    "\n",
    "    plt.legend()\n",
    "    plt.grid(axis='x', linestyle='--')\n",
    "    os.makedirs(output_dir, exist_ok=True)\n",
    "    plt.savefig(os.path.join(output_dir, f'population_{year_to_analyze}.jpeg'))\n",
    "    plt.close()\n",
    "\n",
    "\n",
    "\n",
    "# Esempio di utilizzo della funzione\n",
    "print(\"Starting create charts...\")\n",
    "output_dir = DIR_BAR + f'population_hist'\n",
    "\n",
    "\n",
    "print(\"Done!\")"
   ]
  },
  {
   "cell_type": "markdown",
   "metadata": {},
   "source": [
    "## Creazione del grafico cartesiono per ogni fascia di eta"
   ]
  },
  {
   "cell_type": "code",
   "execution_count": 9,
   "metadata": {},
   "outputs": [
    {
     "name": "stdout",
     "output_type": "stream",
     "text": [
      "Starting drawing...\n",
      "Starting create charts...\n"
     ]
    },
    {
     "name": "stderr",
     "output_type": "stream",
     "text": [
      " 11%|█         | 1/9 [00:00<00:01,  5.29it/s]"
     ]
    },
    {
     "name": "stdout",
     "output_type": "stream",
     "text": [
      "[7621822, 7624632, 7683768, 7771660, 7678724, 7593568, 7500956, 7472352, 7484078, 7540808, 7607882, 7724870, 7860490, 8042718, 8205202, 8339678, 8438030, 8489902, 8484406, 8446080, 8368512, 8344348, 8259424, 8193988, 8087504, 7975588, 7817574, 7610454, 7389314, 7125206, 6816350, 6570062, 6308276, 6071718, 5872028, 5687562, 5528950, 5429480, 5340124, 5262116, 4955172, 4972304, 4973412, 4966066, 4968344, 4989726, 4984812, 4968652, 4940376, 4907004, 4672396, 4666678, 4681522, 4698664, 4701758, 4706608, 4703312, 4696628, 4666394, 4634234, 4583044, 4520248, 4450510, 4379944, 4307394, 4232570, 4129788, 4594182, 4459802, 4372514, 4245790, 4147868, 4046136]\n",
      "[8318644, 8241720, 8158850, 8050066, 8141712, 8204922, 8239440, 8218438, 8181028, 8197876, 8195154, 8196468, 8239786, 8332690, 8246132, 8180728, 8090922, 8106900, 8143278, 8249500, 8370132, 8525074, 8711786, 8879038, 9033520, 9151230, 9260994, 9346630, 9376970, 9403202, 9411282, 9342840, 9217002, 9073256, 8890114, 8695516, 8487306, 8227140, 7970264, 7690052, 7373416, 7089504, 6796800, 6541248, 6320772, 6148734, 6030648, 5950278, 5902572, 5871564, 5710054, 5652978, 5600880, 5555730, 5532792, 5512390, 5477946, 5453320, 5430364, 5404986, 5363732, 5343280, 5347176, 5358276, 5371492, 5385146, 5377184, 5873830, 5846140, 5839958, 5833820, 5804854, 5758636]\n"
     ]
    },
    {
     "name": "stderr",
     "output_type": "stream",
     "text": [
      " 22%|██▏       | 2/9 [00:00<00:01,  5.41it/s]"
     ]
    },
    {
     "name": "stdout",
     "output_type": "stream",
     "text": [
      "[8088986, 8060816, 8048868, 8030374, 7968826, 7921580, 7918120, 7941312, 7975356, 7923742, 7897934, 7839438, 7760680, 7640638, 7719002, 7768680, 7806968, 7760024, 7727228, 7735342, 7760938, 7817180, 7910028, 8025712, 7965786, 7920706, 7851158, 7881664, 7944224, 8072946, 8214848, 8381120, 8574578, 8740882, 8891202, 9005616, 9108090, 9187854, 9232158, 9265456, 9353922, 9300472, 9184350, 9043592, 8856686, 8664122, 8452460, 8193096, 7951340, 7700700, 7245988, 6999214, 6737694, 6501840, 6291926, 6112850, 5985072, 5888932, 5827554, 5780686, 5743052, 5700696, 5654698, 5612426, 5594112, 5576954, 5542976, 6317376, 6263524, 6189950, 6108966, 6157354, 6247990]\n"
     ]
    },
    {
     "name": "stderr",
     "output_type": "stream",
     "text": [
      " 33%|███▎      | 3/9 [00:00<00:01,  5.44it/s]"
     ]
    },
    {
     "name": "stdout",
     "output_type": "stream",
     "text": [
      "[6156648, 6188902, 6254512, 6350596, 6587546, 6940018, 7293206, 7557454, 7575560, 7596006, 7559256, 7551236, 7535274, 7523526, 7499872, 7475982, 7499212, 7543566, 7537026, 7473250, 7407552, 7365226, 7307226, 7223750, 7333010, 7433360, 7513478, 7513402, 7507014, 7535840, 7563528, 7599046, 7679632, 7793862, 7740304, 7708970, 7670334, 7711580, 7776396, 7905766, 8107428, 8269604, 8467766, 8638748, 8798742, 8924866, 9041894, 9131962, 9178590, 9207106, 8797278, 8775696, 8693502, 8591780, 8444404, 8282438, 8106994, 7874306, 7643576, 7389112, 7135706, 6884366, 6619344, 6385306, 6182034, 6024598, 5900634, 6911888, 6818474, 6680098, 6621266, 6607898, 6629894]\n"
     ]
    },
    {
     "name": "stderr",
     "output_type": "stream",
     "text": [
      " 44%|████▍     | 4/9 [00:00<00:00,  5.46it/s]"
     ]
    },
    {
     "name": "stdout",
     "output_type": "stream",
     "text": [
      "[6347766, 6495572, 6586614, 6634484, 6519970, 6299542, 5994142, 5813616, 5835096, 5875682, 5883872, 5913286, 5967582, 6050200, 6264668, 6589448, 6935400, 7166534, 7213964, 7231938, 7223800, 7221734, 7207050, 7210022, 7201050, 7182854, 7218648, 7278398, 7288214, 7256360, 7233506, 7191588, 7137692, 7055040, 7182254, 7273948, 7333038, 7337570, 7332684, 7369792, 7459896, 7505880, 7593882, 7706296, 7653780, 7618558, 7578088, 7614832, 7676552, 7803650, 7702840, 7865994, 8057794, 8228442, 8393368, 8518794, 8632060, 8726116, 8788522, 8841398, 8867134, 8842584, 8762756, 8655334, 8512524, 8364150, 8183186, 8908974, 8697628, 8439620, 8238072, 8023764, 7799544]\n"
     ]
    },
    {
     "name": "stderr",
     "output_type": "stream",
     "text": [
      " 67%|██████▋   | 6/9 [00:01<00:00,  4.78it/s]"
     ]
    },
    {
     "name": "stdout",
     "output_type": "stream",
     "text": [
      "[4448600, 4552610, 4707518, 4870330, 5013828, 5142638, 5313788, 5455290, 5613610, 5740166, 5880262, 6029988, 6122736, 6164472, 6055766, 5839848, 5546744, 5348934, 5376680, 5397022, 5401154, 5451316, 5531836, 5624410, 5837500, 6147566, 6474608, 6699334, 6761502, 6788104, 6794408, 6790186, 6787244, 6791302, 6768410, 6766128, 6814968, 6885206, 6910778, 6898304, 6932364, 6902550, 6861210, 6788302, 6915280, 7006180, 7061752, 7063160, 7055360, 7087376, 7051060, 7112852, 7209976, 7334180, 7299918, 7280402, 7254044, 7300444, 7369898, 7498908, 7640500, 7804256, 8006068, 8191760, 8368956, 8511436, 8639002, 9267506, 9353772, 9380464, 9478912, 9494562, 9447578]\n",
      "[3166046, 3202152, 3217746, 3239304, 3294836, 3336698, 3389086, 3452590, 3572026, 3653802, 3761242, 3844986, 3971174, 4118318, 4252484, 4386090, 4560986, 4713170, 4835098, 4955112, 5069106, 5155844, 5201706, 5218784, 5105236, 4907172, 4658636, 4509750, 4558216, 4613446, 4649012, 4700472, 4761626, 4853176, 5041254, 5307088, 5586850, 5786604, 5864098, 5912582, 5972532, 5988880, 6010558, 6038274, 6040872, 6060654, 6126622, 6208144, 6250332, 6250138, 6220006, 6225246, 6213578, 6173236, 6318490, 6433336, 6517666, 6549960, 6568834, 6620612, 6672626, 6725752, 6811426, 6924934, 6890664, 6876744, 6856944, 7118094, 7219330, 7317880, 7522768, 7719010, 7945608]\n"
     ]
    },
    {
     "name": "stderr",
     "output_type": "stream",
     "text": [
      " 89%|████████▉ | 8/9 [00:01<00:00,  5.31it/s]"
     ]
    },
    {
     "name": "stdout",
     "output_type": "stream",
     "text": [
      "[1847988, 1877978, 1916466, 1948462, 1962926, 1983962, 2006994, 2045862, 2076416, 2099372, 2134180, 2151192, 2150204, 2155224, 2177098, 2209060, 2239554, 2271990, 2346818, 2422532, 2511178, 2573744, 2656646, 2745428, 2819006, 2881218, 2973434, 3055044, 3138988, 3203052, 3293296, 3396688, 3464606, 3512664, 3457346, 3335886, 3181490, 3103902, 3185556, 3271314, 3346712, 3427690, 3512756, 3612448, 3770316, 3974358, 4179988, 4325286, 4404526, 4463370, 4497574, 4565498, 4628268, 4702990, 4750332, 4815864, 4924324, 5040514, 5124570, 5165616, 5204388, 5218726, 5217334, 5190480, 5323726, 5430222, 5507522, 5611906, 5651084, 5700472, 5742260, 5807284, 5901244]\n",
      "[488514, 485438, 487612, 537374, 560762, 565150, 569874, 597814, 615846, 643610, 679052, 672862, 696828, 713294, 726338, 757262, 757918, 769988, 765764, 775220, 797522, 811216, 807620, 805180, 805950, 813242, 820246, 835962, 864830, 883826, 913986, 942254, 974504, 1017864, 1063646, 1110158, 1176518, 1239968, 1320004, 1384044, 1465308, 1538792, 1595342, 1635408, 1616426, 1555410, 1480702, 1450718, 1523826, 1599492, 1663970, 1731478, 1797576, 1887886, 1990592, 2119934, 2239534, 2333986, 2425100, 2492774, 2548006, 2607700, 2679370, 2761432, 2809374, 2890102, 2983080, 3111822, 3208080, 3219740, 3238454, 3249460, 3270174]\n"
     ]
    },
    {
     "name": "stderr",
     "output_type": "stream",
     "text": [
      "100%|██████████| 9/9 [00:01<00:00,  5.20it/s]"
     ]
    },
    {
     "name": "stdout",
     "output_type": "stream",
     "text": [
      "Done!\n"
     ]
    },
    {
     "name": "stderr",
     "output_type": "stream",
     "text": [
      "\n"
     ]
    }
   ],
   "source": [
    "def plot_age_group_growth(data, age_start, age_end, territory, output_dir):\n",
    "    years = np.arange(1952, 2025)\n",
    "    \n",
    "    format_col_age = f\"Age_{age_start}_{age_end}\"\n",
    "    \n",
    "    if format_col_age not in age_columns.keys():\n",
    "        raise Exception()\n",
    "    \n",
    "    data = data[(data['Territory'] == territory)]\n",
    "    male_data = data[data[\"Sex\"] == 1]\n",
    "    female_data = data[data[\"Sex\"] == 2]\n",
    "    \n",
    "    male_population = []\n",
    "    female_population = []\n",
    "    \n",
    "    for year in years:\n",
    "        male_data = data[(data[\"Sex\"] == 1) & (data[\"Year\"] == year)]\n",
    "        female_data = data[(data[\"Sex\"] == 2) & (data[\"Year\"] == year)]\n",
    "        male_population.append(int(male_data[format_col_age].values[0]))\n",
    "        female_population.append(int(female_data[format_col_age].values[0]))\n",
    "    \n",
    "    print(male_population)\n",
    "    plt.figure(figsize=(12, 6))\n",
    "    plt.plot(years, male_population, label='Maschi', color='blue', marker='o')\n",
    "    plt.plot(years, female_population, label='Femmine', color='violet', marker='o')\n",
    "\n",
    "    plt.xlabel('Anno')\n",
    "    plt.ylabel('Popolazione')\n",
    "    plt.title(f'Crescita della Popolazione per la Fascia di Età {age_start}-{age_end} in {territory}')\n",
    "    plt.legend()\n",
    "    plt.grid(True)\n",
    "    plt.yticks(np.linspace(min(male_population + female_population), max(male_population + female_population), 6))\n",
    "\n",
    "    plt.ylim(bottom=0)\n",
    "\n",
    "    if not os.path.exists(output_dir):\n",
    "        os.makedirs(output_dir)\n",
    "    plt.savefig(os.path.join(output_dir, f'fascia_{age_start}_{age_end}.jpeg'))\n",
    "    plt.close()\n",
    "\n",
    "print(\"Starting drawing...\")\n",
    "\n",
    "\n",
    "print(\"Starting create charts...\")\n",
    "output_dir = DIR_CARTESIAN + f'age_popolation'\n",
    "\n",
    "ante = 0\n",
    "for post in tqdm(range(9, 99, 10)):\n",
    "    plot_age_group_growth(data, ante, post, \"Italia\", output_dir)\n",
    "    ante = post\n",
    "\n",
    "print(\"Done!\")\n"
   ]
  }
 ],
 "metadata": {
  "kernelspec": {
   "display_name": "venv",
   "language": "python",
   "name": "python3"
  },
  "language_info": {
   "codemirror_mode": {
    "name": "ipython",
    "version": 3
   },
   "file_extension": ".py",
   "mimetype": "text/x-python",
   "name": "python",
   "nbconvert_exporter": "python",
   "pygments_lexer": "ipython3",
   "version": "3.12.3"
  }
 },
 "nbformat": 4,
 "nbformat_minor": 2
}
