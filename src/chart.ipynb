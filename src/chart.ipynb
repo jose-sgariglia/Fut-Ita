{
 "cells": [
  {
   "cell_type": "code",
   "execution_count": 1,
   "metadata": {},
   "outputs": [],
   "source": [
    "# Importazione e dati vari\n",
    "import pandas as pd\n",
    "import numpy as np\n",
    "import matplotlib.pyplot as plt\n",
    "from utils.constant import DIR_CLEANED_DATA, DIR_BAR, DIR_CARTESIAN\n",
    "from time import time\n",
    "from tqdm import tqdm\n",
    "import os\n",
    "\n",
    "\n",
    "# Definire le fasce d'età\n",
    "age_columns = {\n",
    "    'Age_0_9': \"Fascia 0-9 anni\", \n",
    "    'Age_9_19': \"Fascia 9-19 anni\", \n",
    "    'Age_19_29': \"Fascia 19-29 anni\", \n",
    "    'Age_29_39': \"Fascia 29-39 anni\", \n",
    "    'Age_39_49': \"Fascia 39-49 anni\",\n",
    "    'Age_49_59': \"Fascia 49-59 anni\", \n",
    "    'Age_59_69': \"Fascia 59-69 anni\", \n",
    "    'Age_69_79': \"Fascia 69-79 anni\", \n",
    "    'Age_79_89': \"Fascia 79-89 anni\", \n",
    "    'Age_89_99': \"Fascia 89-99 anni\", \n",
    "    'Age_99_109': \"Fascia 99+ anni\"\n",
    "}\n",
    "\n",
    "# Dati utili per creare i grafici\n",
    "file_path = DIR_CLEANED_DATA + 'merged_dataset.parquet'\n",
    "data = pd.read_parquet(file_path)"
   ]
  },
  {
   "cell_type": "markdown",
   "metadata": {},
   "source": [
    "### Creazione Istogrammi per fascie di età divisi tra maschi e femmine in ogni anno\n",
    "Tutti i dati sono salvati in `charts/bar/population_hist_<numero>`"
   ]
  },
  {
   "cell_type": "code",
   "execution_count": 2,
   "metadata": {},
   "outputs": [
    {
     "name": "stdout",
     "output_type": "stream",
     "text": [
      "Starting create charts...\n"
     ]
    },
    {
     "name": "stderr",
     "output_type": "stream",
     "text": [
      "100%|██████████| 72/72 [00:25<00:00,  2.87it/s]"
     ]
    },
    {
     "name": "stdout",
     "output_type": "stream",
     "text": [
      "Done!\n"
     ]
    },
    {
     "name": "stderr",
     "output_type": "stream",
     "text": [
      "\n"
     ]
    }
   ],
   "source": [
    "def plot_population_by_age_and_sex(data, year_to_analyze, territory_to_analyze, output_dir):\n",
    "    data_filtered = data[(data['Year'] == year_to_analyze) & (data['Territory'] == territory_to_analyze)]\n",
    "\n",
    "    male_data = data_filtered[data_filtered['Sex'] == 1]\n",
    "    female_data = data_filtered[data_filtered['Sex'] == 2]\n",
    "\n",
    "\n",
    "    # Assicurati che le colonne esistano nel dataframe\n",
    "    age_keys = list(age_columns.keys())\n",
    "    if not all(key in male_data.columns for key in age_keys) or not all(key in female_data.columns for key in age_keys):\n",
    "        raise ValueError(\"Le colonne delle fasce di età non sono presenti nel dataframe.\")\n",
    "\n",
    "    male_population = male_data[age_keys].sum().values\n",
    "    female_population = female_data[age_keys].sum().values\n",
    "\n",
    "    bar_width = 0.4\n",
    "    indices = np.arange(len(age_columns))\n",
    "\n",
    "    plt.figure(figsize=(10, 8))\n",
    "\n",
    "    plt.barh(indices - bar_width/2, male_population, bar_width, color='blue', label='Maschi')\n",
    "    plt.barh(indices + bar_width/2, female_population, bar_width, color='violet', label='Femmine')\n",
    "\n",
    "    plt.yticks(indices, list(age_columns.values()))\n",
    "\n",
    "    plt.xlabel('Popolazione')\n",
    "    plt.ylabel('Fascia di Età')\n",
    "    plt.title(f'Popolazione per Fascia di Età e Sesso in {territory_to_analyze} nell\\'anno {year_to_analyze}')\n",
    "\n",
    "    plt.legend()\n",
    "    plt.grid(axis='x', linestyle='--')\n",
    "\n",
    "    # Salvare il grafico in formato JPEG\n",
    "    if not os.path.exists(output_dir):\n",
    "        os.makedirs(output_dir)\n",
    "    plt.savefig(os.path.join(output_dir, f'population_{year_to_analyze}.jpeg'))\n",
    "    plt.close()\n",
    "\n",
    "\n",
    "# Esempio di utilizzo della funzione\n",
    "print(\"Starting create charts...\")\n",
    "output_dir = DIR_BAR + f'population_hist'\n",
    "\n",
    "for year in tqdm(range(1952, 2024)): \n",
    "    plot_population_by_age_and_sex(data, year, 'Italia', output_dir)\n",
    "\n",
    "print(\"Done!\")"
   ]
  },
  {
   "cell_type": "markdown",
   "metadata": {},
   "source": [
    "## Creazione del grafico cartesiono per ogni fascia di eta"
   ]
  },
  {
   "cell_type": "code",
   "execution_count": 7,
   "metadata": {},
   "outputs": [
    {
     "name": "stdout",
     "output_type": "stream",
     "text": [
      "Starting drawing...\n",
      "Starting create charts...\n"
     ]
    },
    {
     "name": "stderr",
     "output_type": "stream",
     "text": [
      "100%|██████████| 9/9 [00:03<00:00,  2.47it/s]"
     ]
    },
    {
     "name": "stdout",
     "output_type": "stream",
     "text": [
      "Done!\n"
     ]
    },
    {
     "name": "stderr",
     "output_type": "stream",
     "text": [
      "\n"
     ]
    }
   ],
   "source": [
    "def plot_age_group_growth(data, age_start, age_end, territory, output_dir):\n",
    "    years = np.arange(1952, 2025)\n",
    "    \n",
    "    format_col_age = f\"Age_{age_start}_{age_end}\"\n",
    "\n",
    "    if format_col_age not in age_columns.keys():\n",
    "        raise Exception()\n",
    "    \n",
    "    age_group = data[(data['Territory'] == territory)]\n",
    "    male_population = []\n",
    "    female_population = []\n",
    "    \n",
    "    for year in years:\n",
    "        year_data = age_group[age_group['Year'] == year]\n",
    "        male_population.append(year_data[year_data['Sex'] == 1][format_col_age].values[0])\n",
    "        female_population.append(year_data[year_data['Sex'] == 2][format_col_age].values[0])\n",
    "    \n",
    "    plt.figure(figsize=(12, 6))\n",
    "    plt.plot(years, male_population, label='Maschi', color='blue', marker='o')\n",
    "    plt.plot(years, female_population, label='Femmine', color='violet', marker='o')\n",
    "\n",
    "    plt.xlabel('Anno')\n",
    "    plt.ylabel('Popolazione')\n",
    "    plt.title(f'Crescita della Popolazione per la Fascia di Età {age_start}-{age_end} in {territory}')\n",
    "    plt.legend()\n",
    "    plt.grid(True)\n",
    "    plt.yticks(np.linspace(min(male_population + female_population), max(male_population + female_population), 6))\n",
    "\n",
    "    if not os.path.exists(output_dir):\n",
    "        os.makedirs(output_dir)\n",
    "    plt.savefig(os.path.join(output_dir, f'fascia_{age_start}_{age_end}.jpeg'))\n",
    "    plt.close()\n",
    "\n",
    "print(\"Starting drawing...\")\n",
    "\n",
    "print(\"Starting create charts...\")\n",
    "output_dir = DIR_CARTESIAN + f'age_popolation'\n",
    "\n",
    "ante = 0\n",
    "for post in tqdm(range(9, 99, 10)):\n",
    "    plot_age_group_growth(data, ante, post, \"Italia\", output_dir)\n",
    "    ante = post\n",
    "\n",
    "print(\"Done!\")\n"
   ]
  }
 ],
 "metadata": {
  "kernelspec": {
   "display_name": "venv",
   "language": "python",
   "name": "python3"
  },
  "language_info": {
   "codemirror_mode": {
    "name": "ipython",
    "version": 3
   },
   "file_extension": ".py",
   "mimetype": "text/x-python",
   "name": "python",
   "nbconvert_exporter": "python",
   "pygments_lexer": "ipython3",
   "version": "3.12.3"
  }
 },
 "nbformat": 4,
 "nbformat_minor": 2
}
