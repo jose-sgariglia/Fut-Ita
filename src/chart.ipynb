{
 "cells": [
  {
   "cell_type": "code",
   "execution_count": 2,
   "metadata": {},
   "outputs": [
    {
     "name": "stdout",
     "output_type": "stream",
     "text": [
      "     Territory  Sex  Year  Age_0_9  Age_9_19  Age_19_29  Age_29_39  Age_39_49  \\\n",
      "5877    Italia    1  2020  8928808  11704466   12538442   13645556   17405943   \n",
      "5907    Italia    1  2020  8928808  11704466   12538442   13645556   17405943   \n",
      "5925    Italia    2  2020  8442418  10997246   11593053   13407378   17538267   \n",
      "5928    Italia    2  2020  8442418  10997246   11593053   13407378   17538267   \n",
      "\n",
      "      Age_49_59  Age_59_69  ...  Age_39_49_Perc  Age_49_59_Perc  \\\n",
      "5877   18721458   14450880  ...       14.966797       16.097965   \n",
      "5907   18721458   14450880  ...       14.966797       16.097965   \n",
      "5925   19381583   15647039  ...       14.319149       15.824128   \n",
      "5928   19381583   15647039  ...       14.319149       15.824128   \n",
      "\n",
      "      Age_59_69_Perc  Age_69_79_Perc  Age_79_89_Perc  Age_89_99_Perc  \\\n",
      "5877       12.425835        9.727732        5.522507        0.985799   \n",
      "5907       12.425835        9.727732        5.522507        0.985799   \n",
      "5925       12.775052       10.747333        7.680670        2.294094   \n",
      "5928       12.775052       10.747333        7.680670        2.294094   \n",
      "\n",
      "      Age_99_109_Perc  Pop_Growth_Rate  Cumulative_Pop  Age_Weighted_Avg  \n",
      "5877         0.016736         0.000000     116297150.0         39.382102  \n",
      "5907         0.016736        -5.049069     116297150.0         39.382102  \n",
      "5925         0.076381         5.317556     122481311.0         42.257301  \n",
      "5928         0.076381         0.000000     122481311.0         42.257301  \n",
      "\n",
      "[4 rows x 29 columns]\n"
     ]
    }
   ],
   "source": [
    "import pandas as pd\n",
    "import matplotlib.pyplot as plt\n",
    "from utils.constant import DIR_CLEANED, DIR_BAR\n",
    "\n",
    "# Caricamento del dataset\n",
    "file_path = DIR_CLEANED + 'merged_dataset1726223290.parquet'\n",
    "data = pd.read_parquet(file_path)\n",
    "\n",
    "# Specificare l'anno e il paese da analizzare\n",
    "year_to_analyze = 2020  \n",
    "territory_to_analyze = 'Italia' \n",
    "\n",
    "data_filtered = data[(data['Year'] == year_to_analyze) & (data['Territory'] == territory_to_analyze)]\n",
    "\n",
    "print(data_filtered)\n",
    "# population_by_age_sex = data_filtered.groupby(['Age', 'Sex'])['Population'].sum().unstack()\n",
    "\n",
    "# # Creare il grafico\n",
    "# age_groups = population_by_age_sex.index\n",
    "# male_population = population_by_age_sex[1]  # Assumendo che 1 corrisponde ai maschi\n",
    "# female_population = -population_by_age_sex[2]  # Assumendo che 2 corrisponde alle femmine, invertito per il grafico bidirezionale\n",
    "\n",
    "# plt.figure(figsize=(10, 8))\n",
    "# plt.barh(age_groups, male_population, color='blue', label='Maschi')\n",
    "# plt.barh(age_groups, female_population, color='pink', label='Femmine')\n",
    "\n",
    "# plt.xlabel('Popolazione')\n",
    "# plt.ylabel('Fascia di Età')\n",
    "# plt.title(f'Popolazione per Fascia di Età e Sesso in {territory_to_analyze} nell\\'anno {year_to_analyze}')\n",
    "# plt.legend()\n",
    "# plt.grid(axis='x', linestyle='--')\n",
    "\n",
    "# plt.show()"
   ]
  }
 ],
 "metadata": {
  "kernelspec": {
   "display_name": "venv",
   "language": "python",
   "name": "python3"
  },
  "language_info": {
   "codemirror_mode": {
    "name": "ipython",
    "version": 3
   },
   "file_extension": ".py",
   "mimetype": "text/x-python",
   "name": "python",
   "nbconvert_exporter": "python",
   "pygments_lexer": "ipython3",
   "version": "3.10.12"
  }
 },
 "nbformat": 4,
 "nbformat_minor": 2
}
