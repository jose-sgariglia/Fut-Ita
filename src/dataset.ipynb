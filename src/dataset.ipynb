{
 "cells": [
  {
   "cell_type": "code",
   "execution_count": 1,
   "metadata": {},
   "outputs": [
    {
     "name": "stdout",
     "output_type": "stream",
     "text": [
      "Loading Datasets...\n"
     ]
    },
    {
     "name": "stderr",
     "output_type": "stream",
     "text": [
      "100%|██████████| 6/6 [00:09<00:00,  1.55s/it]"
     ]
    },
    {
     "name": "stdout",
     "output_type": "stream",
     "text": [
      "Datasets loaded.\n"
     ]
    },
    {
     "name": "stderr",
     "output_type": "stream",
     "text": [
      "\n"
     ]
    }
   ],
   "source": [
    "import os\n",
    "import pandas as pd\n",
    "from tqdm import tqdm as progessbar\n",
    "from utils.constant import DIR_RAW\n",
    "\n",
    "print(\"Loading Datasets...\")\n",
    "datasets = []\n",
    "\n",
    "for filename in progessbar(os.listdir(DIR_RAW)):\n",
    "    if filename.endswith(\".csv\"):\n",
    "        file_path = os.path.join(DIR_RAW, filename)\n",
    "        df = pd.read_csv(file_path, low_memory=False)\n",
    "        datasets.append(df)\n",
    "\n",
    "print(\"Datasets loaded.\")"
   ]
  },
  {
   "cell_type": "code",
   "execution_count": 2,
   "metadata": {},
   "outputs": [
    {
     "name": "stdout",
     "output_type": "stream",
     "text": [
      "Cleaning Datasets...\n"
     ]
    },
    {
     "name": "stderr",
     "output_type": "stream",
     "text": [
      "Pulizia dei Dataset: 6it [00:01,  3.37it/s]"
     ]
    },
    {
     "name": "stdout",
     "output_type": "stream",
     "text": [
      "Datasets cleaned.\n"
     ]
    },
    {
     "name": "stderr",
     "output_type": "stream",
     "text": [
      "\n"
     ]
    }
   ],
   "source": [
    "print(\"Cleaning Datasets...\")\n",
    "\n",
    "from utils import DatasetCleaner\n",
    "\n",
    "cleaner = DatasetCleaner()\n",
    "datasets = cleaner.clean(datasets)\n",
    "\n",
    "print(\"Datasets cleaned.\")"
   ]
  },
  {
   "cell_type": "code",
   "execution_count": 3,
   "metadata": {},
   "outputs": [
    {
     "name": "stdout",
     "output_type": "stream",
     "text": [
      "Feature Engineering...\n"
     ]
    },
    {
     "name": "stderr",
     "output_type": "stream",
     "text": [
      "Feature Engineering: 6it [00:00, 17.33it/s]\n"
     ]
    },
    {
     "name": "stdout",
     "output_type": "stream",
     "text": [
      "Feature Engineering done.\n"
     ]
    }
   ],
   "source": [
    "print(\"Feature Engineering...\")\n",
    "\n",
    "from utils import FeatureEngineering\n",
    "\n",
    "fe = FeatureEngineering()\n",
    "datasets = fe.apply(datasets)\n",
    "\n",
    "print(\"Feature Engineering done.\")"
   ]
  },
  {
   "cell_type": "code",
   "execution_count": 4,
   "metadata": {},
   "outputs": [
    {
     "name": "stdout",
     "output_type": "stream",
     "text": [
      "Merging datasets...\n",
      "Datasets merged!\n",
      "Dataset saved to ../data/cleaned/merged_dataset.parquet!\n"
     ]
    }
   ],
   "source": [
    "from utils import DatasetMerger\n",
    "\n",
    "merger = DatasetMerger()\n",
    "merger.process_and_save(datasets)"
   ]
  }
 ],
 "metadata": {
  "kernelspec": {
   "display_name": "venv",
   "language": "python",
   "name": "python3"
  },
  "language_info": {
   "codemirror_mode": {
    "name": "ipython",
    "version": 3
   },
   "file_extension": ".py",
   "mimetype": "text/x-python",
   "name": "python",
   "nbconvert_exporter": "python",
   "pygments_lexer": "ipython3",
   "version": "3.12.3"
  }
 },
 "nbformat": 4,
 "nbformat_minor": 2
}
