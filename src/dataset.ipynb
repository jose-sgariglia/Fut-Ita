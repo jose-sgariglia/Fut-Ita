{
 "cells": [
  {
   "cell_type": "code",
   "execution_count": 1,
   "metadata": {},
   "outputs": [
    {
     "name": "stdout",
     "output_type": "stream",
     "text": [
      "Loading Datasets...\n"
     ]
    },
    {
     "name": "stderr",
     "output_type": "stream",
     "text": [
      "100%|██████████| 6/6 [00:08<00:00,  1.45s/it]"
     ]
    },
    {
     "name": "stdout",
     "output_type": "stream",
     "text": [
      "Datasets loaded.\n"
     ]
    },
    {
     "name": "stderr",
     "output_type": "stream",
     "text": [
      "\n"
     ]
    }
   ],
   "source": [
    "import os\n",
    "import pandas as pd\n",
    "from tqdm import tqdm as progressbar\n",
    "from utils.constant import *\n",
    "\n",
    "print(\"Loading Datasets...\")\n",
    "datasets = []\n",
    "\n",
    "for filename in progressbar(os.listdir(DIR_RAW)):\n",
    "    if filename.endswith(\".csv\"):\n",
    "        file_path = os.path.join(DIR_RAW, filename)\n",
    "        df = pd.read_csv(file_path, low_memory=False)\n",
    "        datasets.append(df)\n",
    "\n",
    "print(\"Datasets loaded.\")"
   ]
  },
  {
   "cell_type": "code",
   "execution_count": 2,
   "metadata": {},
   "outputs": [
    {
     "name": "stdout",
     "output_type": "stream",
     "text": [
      "Cleaning Datasets...\n"
     ]
    },
    {
     "name": "stderr",
     "output_type": "stream",
     "text": [
      "Pulizia dei Dataset: 6it [00:01,  3.44it/s]"
     ]
    },
    {
     "name": "stdout",
     "output_type": "stream",
     "text": [
      "Datasets cleaned.\n"
     ]
    },
    {
     "name": "stderr",
     "output_type": "stream",
     "text": [
      "\n"
     ]
    }
   ],
   "source": [
    "def clean_datasets(datasets: list[pd.DataFrame], columns_to_keep: list[str] = None) -> list[pd.DataFrame]:\n",
    "    \"\"\"Pulisce una lista di DataFrame secondo criteri specificati.\"\"\"\n",
    "    columns_to_keep = columns_to_keep or [\"Territorio\", \"SEXISTAT1\", \"ETA1\", \"TIME\", \"Value\"]\n",
    "\n",
    "    for i, dataset in progressbar(enumerate(datasets), desc=\"Pulizia dei Dataset\"):\n",
    "        # Mantieni solo le colonne specificate\n",
    "        dataset = dataset[columns_to_keep]\n",
    "\n",
    "        # Rimuovi record indesiderati e stringhe specifiche, converte in numerico\n",
    "        dataset = dataset[(dataset['SEXISTAT1'] != 9) & \n",
    "                          (dataset['ETA1'] != 'TOTAL') & \n",
    "                          (dataset['Territorio'].isin(ITA_STATE))]\n",
    "        dataset['ETA1'] = pd.to_numeric(dataset['ETA1'].replace({'Y_GE100': '100'}).str.replace('Y', ''), errors='coerce')\n",
    "        dataset.dropna(subset=['ETA1'], inplace=True)\n",
    "\n",
    "        # Verifica tipo della colonna\n",
    "        if not pd.api.types.is_integer_dtype(dataset['ETA1']):\n",
    "            raise ValueError(\"La colonna ETA1 contiene ancora tipi non int\")\n",
    "\n",
    "        datasets[i] = dataset\n",
    "\n",
    "    return datasets\n",
    "\n",
    "\n",
    "\n",
    "print(\"Cleaning Datasets...\")\n",
    "\n",
    "datasets = clean_datasets(datasets)\n",
    "\n",
    "print(\"Datasets cleaned.\")"
   ]
  },
  {
   "cell_type": "code",
   "execution_count": 3,
   "metadata": {},
   "outputs": [
    {
     "name": "stdout",
     "output_type": "stream",
     "text": [
      "Feature Engineering...\n"
     ]
    },
    {
     "name": "stderr",
     "output_type": "stream",
     "text": [
      "Feature Engineering: 6it [00:00, 12.39it/s]\n"
     ]
    },
    {
     "name": "stdout",
     "output_type": "stream",
     "text": [
      "Feature Engineering done.\n"
     ]
    }
   ],
   "source": [
    "print(\"Feature Engineering...\")\n",
    "\n",
    "from utils import FeatureEngineering\n",
    "\n",
    "fe = FeatureEngineering()\n",
    "datasets = fe.apply(datasets)\n",
    "\n",
    "print(\"Feature Engineering done.\")"
   ]
  },
  {
   "cell_type": "code",
   "execution_count": 4,
   "metadata": {},
   "outputs": [
    {
     "name": "stdout",
     "output_type": "stream",
     "text": [
      "Merging Datasets and Saving...\n",
      "Dataset saved to ../data/cleaned/merged_dataset1725896203.parquet!\n",
      "Dataset saved to ../data/cleaned/merged_dataset1725896203.csv!\n"
     ]
    }
   ],
   "source": [
    "from utils import DatasetMerger\n",
    "\n",
    "print(\"Merging Datasets and Saving...\")\n",
    "merger = DatasetMerger()\n",
    "merger.process_and_save(datasets, save_to_csv=True)"
   ]
  }
 ],
 "metadata": {
  "kernelspec": {
   "display_name": "venv",
   "language": "python",
   "name": "python3"
  },
  "language_info": {
   "codemirror_mode": {
    "name": "ipython",
    "version": 3
   },
   "file_extension": ".py",
   "mimetype": "text/x-python",
   "name": "python",
   "nbconvert_exporter": "python",
   "pygments_lexer": "ipython3",
   "version": "3.12.3"
  }
 },
 "nbformat": 4,
 "nbformat_minor": 2
}
